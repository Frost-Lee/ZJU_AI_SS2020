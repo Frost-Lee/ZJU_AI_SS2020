{
 "cells": [
  {
   "cell_type": "code",
   "execution_count": null,
   "metadata": {},
   "outputs": [],
   "source": [
    "import numpy as np\n",
    "import cv2\n",
    "import skimage\n",
    "import scipy\n",
    "from tensorflow import keras\n",
    "from PIL import Image\n",
    "from matplotlib import pyplot as plt\n",
    "\n",
    "import noise_bae"
   ]
  },
  {
   "cell_type": "code",
   "execution_count": null,
   "metadata": {},
   "outputs": [],
   "source": [
    "def evaluate(original_image, denoised_image):\n",
    "    assert original_image.shape == denoised_image.shape\n",
    "    l2_norm = np.sqrt(np.sum(np.power(original_image - denoised_image, 2)))\n",
    "    cosine_similarity = scipy.spatial.distance.cosine(\n",
    "        original_image.flatten(), \n",
    "        denoised_image.flatten()\n",
    "    )\n",
    "    ssim_similarity = skimage.measure.compare_ssim(\n",
    "        original_image,\n",
    "        denoised_image,\n",
    "        multichannel=True,\n",
    "        data_range=np.max(denoised_image) - np.min(denoised_image)\n",
    "    )\n",
    "    print('l2 norm:', round(l2_norm, 5))\n",
    "    print('cosine similarity:', round(cosine_similarity, 5))\n",
    "    print('ssim similarity:', round(ssim_similarity, 5))"
   ]
  },
  {
   "cell_type": "code",
   "execution_count": null,
   "metadata": {},
   "outputs": [],
   "source": [
    "denoising_model = keras.models.load_model('/Users/Frost/Desktop/denoising_model.hdf5')"
   ]
  },
  {
   "cell_type": "code",
   "execution_count": null,
   "metadata": {},
   "outputs": [],
   "source": [
    "image = np.array(Image.open('/Users/Frost/Desktop/ai_sample_data/xihu.png')).astype(np.float32)[:, :, :3]\n",
    "image /= 255.0\n",
    "evaluate(image, image)\n",
    "plt.imshow(image)"
   ]
  },
  {
   "cell_type": "code",
   "execution_count": null,
   "metadata": {},
   "outputs": [],
   "source": [
    "noisy_image = noise_bae.bae.add_pepper(noise_bae.bae.add_gaussian(image, 0.4), 0.4)\n",
    "# noisy_image = np.array(Image.open('/Users/Frost/Desktop/ai_sample_data/xihu_random_noise.png')).astype(np.float32)\n",
    "# noisy_image /= 255.0\n",
    "plt.imshow(noisy_image)\n",
    "Image.fromarray((noisy_image * 255).astype('uint8')).save(open('/Users/Frost/Desktop/noisy.jpg', 'wb'))"
   ]
  },
  {
   "cell_type": "code",
   "execution_count": null,
   "metadata": {},
   "outputs": [],
   "source": [
    "denoised_image = noise_bae.cleaner.clean_image_median(noisy_image, 15)\n",
    "evaluate(image, denoised_image)\n",
    "plt.imshow(denoised_image)"
   ]
  },
  {
   "cell_type": "code",
   "execution_count": null,
   "metadata": {},
   "outputs": [],
   "source": [
    "denoised_image = noise_bae.cleaner.clean_image_nlmeans(noisy_image)\n",
    "evaluate(image, denoised_image)\n",
    "plt.imshow(denoised_image)"
   ]
  },
  {
   "cell_type": "code",
   "execution_count": null,
   "metadata": {},
   "outputs": [],
   "source": [
    "denoised_image = noise_bae.cleaner.clean_image_tv(noisy_image, weight=0.4, addition=0.1)\n",
    "evaluate(image, denoised_image)\n",
    "plt.imshow(denoised_image)"
   ]
  },
  {
   "cell_type": "code",
   "execution_count": null,
   "metadata": {},
   "outputs": [],
   "source": [
    "denoised_image = noise_bae.cleaner.clean_image_resnet(noisy_image, denoising_model)\n",
    "evaluate(image, denoised_image)\n",
    "plt.imshow(denoised_image)"
   ]
  },
  {
   "cell_type": "code",
   "execution_count": null,
   "metadata": {},
   "outputs": [],
   "source": []
  }
 ],
 "metadata": {
  "language_info": {
   "codemirror_mode": {
    "name": "ipython",
    "version": 3
   },
   "file_extension": ".py",
   "mimetype": "text/x-python",
   "name": "python",
   "nbconvert_exporter": "python",
   "pygments_lexer": "ipython3",
   "version": "3.6.1-final"
  },
  "orig_nbformat": 2,
  "kernelspec": {
   "name": "python36164bit4e8a338e5ee143c7a9b55d1d6761194d",
   "display_name": "Python 3.6.1 64-bit"
  }
 },
 "nbformat": 4,
 "nbformat_minor": 2
}