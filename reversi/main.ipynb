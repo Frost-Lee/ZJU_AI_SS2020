{
 "cells": [
  {
   "cell_type": "code",
   "execution_count": null,
   "metadata": {},
   "outputs": [],
   "source": [
    "import numpy as np\n",
    "from tensorflow import keras\n",
    "\n",
    "from reversi_zero import board\n",
    "from reversi_zero import nn_model\n",
    "from reversi_zero import mct\n",
    "from reversi_zero import player"
   ]
  },
  {
   "cell_type": "code",
   "execution_count": null,
   "metadata": {},
   "outputs": [],
   "source": [
    "board = board.Board()\n",
    "board._move('C4', 'X')\n",
    "board.display()"
   ]
  },
  {
   "cell_type": "code",
   "execution_count": null,
   "metadata": {},
   "outputs": [],
   "source": [
    "model = nn_model.NNModel()\n",
    "\n",
    "root = mct.MCTNode(None, 1, 1)\n",
    "mct.MCTSearch().evaluate(root, board, model)"
   ]
  },
  {
   "cell_type": "code",
   "execution_count": null,
   "metadata": {},
   "outputs": [],
   "source": [
    "trained_model = nn_model.NNModel()\n",
    "trained_model.load('/Users/Frost/Desktop/dump_model.hdf5')\n",
    "\n",
    "root = mct.MCTNode(None, 1, 1)\n",
    "mct.MCTSearch().evaluate(root, board, model)"
   ]
  },
  {
   "cell_type": "code",
   "execution_count": null,
   "metadata": {},
   "outputs": [],
   "source": []
  }
 ],
 "metadata": {
  "language_info": {
   "name": "python",
   "codemirror_mode": {
    "name": "ipython",
    "version": 3
   },
   "version": "3.6.1-final"
  },
  "orig_nbformat": 2,
  "file_extension": ".py",
  "mimetype": "text/x-python",
  "name": "python",
  "npconvert_exporter": "python",
  "pygments_lexer": "ipython3",
  "version": 3,
  "kernelspec": {
   "name": "python36164bit4e8a338e5ee143c7a9b55d1d6761194d",
   "display_name": "Python 3.6.1 64-bit"
  }
 },
 "nbformat": 4,
 "nbformat_minor": 2
}